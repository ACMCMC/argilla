{
 "cells": [
  {
   "cell_type": "markdown",
   "id": "ab331bf86f9eb341",
   "metadata": {},
   "source": [
    "# Hub Dataset Annotation\n",
    "\n",
    "This notebook is a Proof of Concept of how to explore and create some user annotations using exclusively the dataset viewer API from the Hub.\n",
    "\n",
    "The goal of this experiment is to validate the feasibility of integrate this kind of annotation in Argilla. This could change the main mindset of Argilla, but it could bring a lot of benefits to the user experience and data integration."
   ]
  },
  {
   "cell_type": "markdown",
   "id": "7f4774928865a661",
   "metadata": {},
   "source": [
    "## 1. Create a hub dataset instance\n",
    "\n",
    "The first step is to create a hub dataset instance. This instance will be used to interact with the dataset viewer API.\n"
   ]
  },
  {
   "cell_type": "code",
   "id": "f918f33005f5def9",
   "metadata": {
    "jupyter": {
     "is_executing": true
    }
   },
   "source": [
    "from hub_dataset import HubDataset\n",
    "\n",
    "dataset = HubDataset(\"stanfordnlp/imdb\", split=\"train\")\n",
    "dataset.info()"
   ],
   "outputs": [],
   "execution_count": null
  },
  {
   "cell_type": "markdown",
   "id": "990b6c62a78d2fb7",
   "metadata": {},
   "source": [
    "This dataset wraps the Dataset Viewer API from the Hub. The `info` method returns the dataset information. You can walk through the source code to see all the available methods. "
   ]
  },
  {
   "cell_type": "code",
   "id": "c62d997ac5ea0a99",
   "metadata": {},
   "source": [
    "# You can also inspect the dataset features\n",
    "dataset.features"
   ],
   "outputs": [],
   "execution_count": null
  },
  {
   "cell_type": "code",
   "id": "7d69c96a8efe702b",
   "metadata": {},
   "source": [
    "# the dataset size\n",
    "dataset.size()"
   ],
   "outputs": [],
   "execution_count": null
  },
  {
   "cell_type": "code",
   "id": "56ed3d8a2934e4e9",
   "metadata": {
    "jupyter": {
     "is_executing": true
    }
   },
   "source": [
    "# The feature statistics\n",
    "dataset.statistics()"
   ],
   "outputs": [],
   "execution_count": null
  },
  {
   "cell_type": "code",
   "id": "7fe818cbd5c8214",
   "metadata": {},
   "source": [
    "# Fetch some rows\n",
    "dataset.rows(offset=0, length=5)"
   ],
   "outputs": [],
   "execution_count": null
  },
  {
   "cell_type": "code",
   "id": "a16f05bce2cce2f2",
   "metadata": {},
   "source": [
    "# Search for some specific rows\n",
    "dataset.search(query=\"I rented I AM CURIOUS-YELLOW from my video store\", length=2)"
   ],
   "outputs": [],
   "execution_count": null
  },
  {
   "cell_type": "code",
   "id": "8ce04e56f414e799",
   "metadata": {},
   "source": [
    "# Filter by some specific features\n",
    "dataset.filter(where=\"label=1\", length=5)"
   ],
   "outputs": [],
   "execution_count": null
  },
  {
   "cell_type": "code",
   "id": "6a5926d58c35755d",
   "metadata": {
    "jupyter": {
     "is_executing": true
    }
   },
   "source": [
    "# There is an iterable version for each method working with the dataset rows \n",
    "for row in dataset.iterable_rows(limit=5):\n",
    "    print(row)"
   ],
   "outputs": [],
   "execution_count": null
  },
  {
   "cell_type": "markdown",
   "id": "9e36fcf0fea6125d",
   "metadata": {},
   "source": [
    "## 2. Create an annotation session over the dataset\n",
    "\n",
    "The next step is to create an annotation session over the dataset. This session will be used to manage and store the multiple annotation for different users."
   ]
  },
  {
   "cell_type": "code",
   "id": "c391a8f796eb3c7d",
   "metadata": {
    "jupyter": {
     "is_executing": true
    }
   },
   "source": [
    "from annotation_session import AnnotationSession\n",
    "\n",
    "session = AnnotationSession(dataset)"
   ],
   "outputs": [],
   "execution_count": null
  },
  {
   "cell_type": "code",
   "id": "ce74d55646131a7d",
   "metadata": {
    "jupyter": {
     "is_executing": true
    }
   },
   "source": [
    "for row in session.list(limit=2, status=\"pending\"):\n",
    "    print(row)"
   ],
   "outputs": [],
   "execution_count": null
  },
  {
   "cell_type": "code",
   "id": "c3e7f91e77f5d4a",
   "metadata": {
    "jupyter": {
     "is_executing": true
    }
   },
   "source": [
    "# We define two different users\n",
    "\n",
    "user1 = \"mark\"\n",
    "user2 = \"peter\"\n",
    "\n",
    "# And we start annotating some rows for each user given their specific batch "
   ],
   "outputs": [],
   "execution_count": null
  },
  {
   "cell_type": "code",
   "id": "14b4f835772fae98",
   "metadata": {
    "jupyter": {
     "is_executing": true
    }
   },
   "source": [
    "# User 1\n",
    "for row in session.pending_rows_batch(user1, limit=10):\n",
    "    print(row[\"row_idx\"])\n",
    "    session.annotate(row[\"row_idx\"], user1, label=1)"
   ],
   "outputs": [],
   "execution_count": null
  },
  {
   "cell_type": "code",
   "id": "8afecf582c3b5c34",
   "metadata": {
    "jupyter": {
     "is_executing": true
    }
   },
   "source": [
    "# User 2\n",
    "for row in session.pending_rows_batch(user2, limit=10):\n",
    "    print(row[\"row_idx\"])\n",
    "    session.annotate(row[\"row_idx\"], user2, label=0)"
   ],
   "outputs": [],
   "execution_count": null
  },
  {
   "cell_type": "code",
   "id": "d8beeb1166bc96f1",
   "metadata": {
    "jupyter": {
     "is_executing": true
    }
   },
   "source": [
    "# Now we can list the annotations for each user\n",
    "for row in session.annotated_rows(user1):\n",
    "    print(row[\"row_idx\"])"
   ],
   "outputs": [],
   "execution_count": null
  },
  {
   "cell_type": "code",
   "id": "dd697bd2cf25b0ac",
   "metadata": {},
   "source": [
    "for row in session.annotated_rows(user2):\n",
    "    print(row[\"row_idx\"])"
   ],
   "outputs": [],
   "execution_count": null
  },
  {
   "cell_type": "markdown",
   "id": "8bf1b9e99a2818ac",
   "metadata": {},
   "source": [
    "Each pending batch call will return a batch of rows to annotate randomized by user. So the user will not see the same rows as the other user. This helps to distribute the annotation work among the users.\n",
    "\n",
    "Filter and searches are also available for the annotated rows. You can combine them with the status parameter to filter the rows by status."
   ]
  },
  {
   "cell_type": "code",
   "id": "6d9d630c-d09d-4420-a280-ca86dc5b18b3",
   "metadata": {},
   "source": [
    "for row in session.filter(where=\"label=1\", status=\"annotated\", limit=5):\n",
    "    print(\"Annotated row id\", row[\"row_idx\"])\n",
    "    \n",
    "for row in session.search(query=\"I rented I AM CURIOUS-YELLOW from my video store\", status=\"pending\", limit=5):\n",
    "    print(\"Pending row id\", row[\"row_idx\"])"
   ],
   "outputs": [],
   "execution_count": null
  },
  {
   "cell_type": "code",
   "id": "db626865-38b6-43bb-ae9a-4439b2b289de",
   "metadata": {},
   "source": [
    "# We can also to access the annotations for a specific row\n",
    "for annotated_row in  session.list(limit=10, status=\"annotated\"):\n",
    "    print(session.get_row_annotations(annotated_row[\"row_idx\"]))\n"
   ],
   "outputs": [],
   "execution_count": null
  },
  {
   "cell_type": "code",
   "id": "5d961f40-ebdd-4863-a916-9a6372a929d8",
   "metadata": {},
   "source": [],
   "outputs": [],
   "execution_count": null
  }
 ],
 "metadata": {
  "kernelspec": {
   "display_name": "Python 3 (ipykernel)",
   "language": "python",
   "name": "python3"
  },
  "language_info": {
   "codemirror_mode": {
    "name": "ipython",
    "version": 3
   },
   "file_extension": ".py",
   "mimetype": "text/x-python",
   "name": "python",
   "nbconvert_exporter": "python",
   "pygments_lexer": "ipython3",
   "version": "3.10.13"
  }
 },
 "nbformat": 4,
 "nbformat_minor": 5
}
