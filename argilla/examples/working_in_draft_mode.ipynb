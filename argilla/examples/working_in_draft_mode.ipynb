{
 "cells": [
  {
   "cell_type": "code",
   "execution_count": 1,
   "id": "0",
   "metadata": {},
   "outputs": [],
   "source": [
    "import argilla as rg\n",
    "\n",
    "local = rg.Argilla(api_key=\"argilla.apikey\")\n",
    "client = local"
   ]
  },
  {
   "cell_type": "code",
   "execution_count": 3,
   "id": "1",
   "metadata": {},
   "outputs": [
    {
     "data": {
      "application/vnd.jupyter.widget-view+json": {
       "model_id": "f0cb8d16a86f43ccad56984932e5342f",
       "version_major": 2,
       "version_minor": 0
      },
      "text/plain": [
       "Fetching 0 files: 0it [00:00, ?it/s]"
      ]
     },
     "metadata": {},
     "output_type": "display_data"
    },
    {
     "name": "stderr",
     "output_type": "stream",
     "text": [
      "/Users/frascuchon/Projects/argilla-io/argilla/argilla/src/argilla/settings/_io/_hub.py:226: UserWarning: Feature 'wikipedia_link_11+' has an invalid name. Skipping.\n",
      "  warnings.warn(f\"Feature '{name}' has an invalid name. Skipping.\")\n",
      "/Users/frascuchon/Projects/argilla-io/argilla/argilla/src/argilla/datasets/_resource.py:267: UserWarning: Workspace not provided. Using default workspace: argilla id: e53a3041-3b59-44bc-82e2-edbf3612c9f1\n",
      "  warnings.warn(f\"Workspace not provided. Using default workspace: {workspace.name} id: {workspace.id}\")\n",
      "/Users/frascuchon/Projects/argilla-io/argilla/argilla/src/argilla/records/_mapping/_mapper.py:89: UserWarning: Keys ['wikipedia_link_11+'] in data are not present in the mapping and will be ignored.\n",
      "  warnings.warn(f\"Keys {unknown_keys} in data are not present in the mapping and will be ignored.\")\n"
     ]
    },
    {
     "data": {
      "text/html": [
       "<pre style=\"white-space:pre;overflow-x:auto;line-height:normal;font-family:Menlo,'DejaVu Sans Mono',consolas,'Courier New',monospace\">DatasetRecords: The provided batch size <span style=\"color: #008080; text-decoration-color: #008080; font-weight: bold\">256</span> was normalized. Using value <span style=\"color: #008080; text-decoration-color: #008080; font-weight: bold\">100</span>.\n",
       "</pre>\n"
      ],
      "text/plain": [
       "DatasetRecords: The provided batch size \u001b[1;36m256\u001b[0m was normalized. Using value \u001b[1;36m100\u001b[0m.\n"
      ]
     },
     "metadata": {},
     "output_type": "display_data"
    },
    {
     "name": "stderr",
     "output_type": "stream",
     "text": [
      "Sending records...: 100%|██████████| 1/1 [00:00<00:00, 16.49batch/s]\n"
     ]
    }
   ],
   "source": [
    "if dataset := client.datasets(\"google-frames-benchmark\"):\n",
    "    dataset.delete()\n",
    "\n",
    "# The current code has a modification to do not create any default question. \n",
    "# In that case, the dataset will be created in draft status (just to go on with the flow)\n",
    "dataset = rg.Dataset.from_hub(\"google/frames-benchmark\", split=\"test[:100]\")"
   ]
  },
  {
   "cell_type": "code",
   "execution_count": 4,
   "id": "2",
   "metadata": {},
   "outputs": [
    {
     "data": {
      "text/plain": [
       "[TextField(name=prompt, title=prompt, description=None, type=text, required=False) \n",
       ", TextField(name=answer, title=answer, description=None, type=text, required=False) \n",
       ", TextField(name=wikipedia_link_1, title=wikipedia_link_1, description=None, type=text, required=False) \n",
       ", TextField(name=wikipedia_link_2, title=wikipedia_link_2, description=None, type=text, required=False) \n",
       ", TextField(name=wikipedia_link_3, title=wikipedia_link_3, description=None, type=text, required=False) \n",
       ", TextField(name=wikipedia_link_4, title=wikipedia_link_4, description=None, type=text, required=False) \n",
       ", TextField(name=wikipedia_link_5, title=wikipedia_link_5, description=None, type=text, required=False) \n",
       ", TextField(name=wikipedia_link_6, title=wikipedia_link_6, description=None, type=text, required=False) \n",
       ", TextField(name=wikipedia_link_7, title=wikipedia_link_7, description=None, type=text, required=False) \n",
       ", TextField(name=wikipedia_link_8, title=wikipedia_link_8, description=None, type=text, required=False) \n",
       ", TextField(name=wikipedia_link_9, title=wikipedia_link_9, description=None, type=text, required=False) \n",
       ", TextField(name=wikipedia_link_10, title=wikipedia_link_10, description=None, type=text, required=False) \n",
       ", TextField(name=reasoning_types, title=reasoning_types, description=None, type=text, required=False) \n",
       ", TextField(name=wiki_links, title=wiki_links, description=None, type=text, required=False) \n",
       "]"
      ]
     },
     "execution_count": 4,
     "metadata": {},
     "output_type": "execute_result"
    }
   ],
   "source": [
    "dataset.settings.fields"
   ]
  },
  {
   "cell_type": "code",
   "execution_count": 5,
   "id": "3",
   "metadata": {},
   "outputs": [
    {
     "data": {
      "text/plain": [
       "TextQuestion(name=answer, title=answer, description=None, type=text, required=True) "
      ]
     },
     "execution_count": 5,
     "metadata": {},
     "output_type": "execute_result"
    }
   ],
   "source": [
    "# We do some settings adjustments (after exploring the dataset in the UI)\n",
    "\n",
    "# Note: to run the UI you need launch the frontend server in dev mode locally (npm run dev)\n",
    "dataset.settings.fields.remove(\"answer\")\n",
    "dataset.settings.questions.add(rg.TextQuestion(name=\"answer\", required=True))\n",
    "\n"
   ]
  },
  {
   "cell_type": "code",
   "execution_count": 6,
   "id": "4",
   "metadata": {},
   "outputs": [
    {
     "data": {
      "text/plain": [
       "[TextQuestion(name=answer, title=answer, description=None, type=text, required=True) \n",
       "]"
      ]
     },
     "execution_count": 6,
     "metadata": {},
     "output_type": "execute_result"
    }
   ],
   "source": [
    "dataset.update()\n",
    "dataset.settings.questions"
   ]
  },
  {
   "cell_type": "code",
   "execution_count": null,
   "id": "5",
   "metadata": {},
   "outputs": [],
   "source": [
    "# After some changes I wanted to refresh records from the dataset but\n",
    "# I cannot use the from_hub method as is\n",
    "# I could use by passing the dataset.settings but I feel this step a bit weird\n",
    "\n",
    "\n",
    "from datasets import load_dataset\n",
    "\n",
    "# So I tried to load only records from the hub\n",
    "hf_ds = load_dataset(\"google/frames-benchmark\", split=\"test\")\n",
    "dataset.records.log(hf_ds)\n",
    "\n",
    "# But this is not working due to the settings sanitization step included on the from_hub method\n"
   ]
  },
  {
   "cell_type": "code",
   "execution_count": null,
   "id": "6",
   "metadata": {},
   "outputs": [],
   "source": []
  }
 ],
 "metadata": {
  "kernelspec": {
   "display_name": "Python 3 (ipykernel)",
   "language": "python",
   "name": "python3"
  },
  "language_info": {
   "codemirror_mode": {
    "name": "ipython",
    "version": 3
   },
   "file_extension": ".py",
   "mimetype": "text/x-python",
   "name": "python",
   "nbconvert_exporter": "python",
   "pygments_lexer": "ipython3",
   "version": "3.10.13"
  }
 },
 "nbformat": 4,
 "nbformat_minor": 5
}
